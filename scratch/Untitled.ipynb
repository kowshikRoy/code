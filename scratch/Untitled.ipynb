{
 "cells": [
  {
   "cell_type": "code",
   "execution_count": 87,
   "id": "e4fd78fe",
   "metadata": {},
   "outputs": [
    {
     "data": {
      "text/plain": [
       "(133, 187, 159, 184)"
      ]
     },
     "execution_count": 87,
     "metadata": {},
     "output_type": "execute_result"
    }
   ],
   "source": [
    "import numpy as np\n",
    "from numpy.random import randint\n",
    "r1,c1,r2,c2 = randint(low=100,high=200,size=4)\n",
    "r1, c1, r2, c2"
   ]
  },
  {
   "cell_type": "code",
   "execution_count": 88,
   "id": "194ad602",
   "metadata": {},
   "outputs": [
    {
     "data": {
      "text/plain": [
       "(array([[1, 1, 1, ..., 1, 0, 0],\n",
       "        [1, 1, 0, ..., 1, 0, 1],\n",
       "        [1, 0, 0, ..., 0, 1, 1],\n",
       "        ...,\n",
       "        [1, 1, 0, ..., 0, 0, 1],\n",
       "        [0, 1, 1, ..., 0, 1, 0],\n",
       "        [1, 1, 1, ..., 0, 1, 0]]),\n",
       " array([[0, 0, 0, ..., 1, 1, 1],\n",
       "        [0, 1, 1, ..., 0, 0, 0],\n",
       "        [1, 1, 1, ..., 0, 1, 1],\n",
       "        ...,\n",
       "        [1, 1, 1, ..., 0, 0, 0],\n",
       "        [1, 1, 1, ..., 1, 0, 1],\n",
       "        [0, 1, 1, ..., 0, 0, 0]]))"
      ]
     },
     "execution_count": 88,
     "metadata": {},
     "output_type": "execute_result"
    }
   ],
   "source": [
    "A, B = randint(2, size=(r1,c1)), randint(2,size=(r2,c2))\n",
    "A,B"
   ]
  },
  {
   "cell_type": "code",
   "execution_count": 89,
   "id": "8c02b1a8",
   "metadata": {},
   "outputs": [
    {
     "name": "stdout",
     "output_type": "stream",
     "text": [
      "105263112\n"
     ]
    }
   ],
   "source": [
    "# import numpy as np\n",
    "# from numpy.random import randint\n",
    "# r1,c1,r2,c2 = randint(low=3,high=6,size=4)\n",
    "# A, B = randint(2, size=(r1,c1)), randint(2,size=(r2,c2))\n",
    "sum = 0\n",
    "for x in range(r2):\n",
    "    for y in range(c2):\n",
    "        B_ = B[x:, y:]\n",
    "        shape = np.minimum(A.shape, B_.shape)\n",
    "        A_ = A[:shape[0], :shape[1]]\n",
    "        B_ = B_[:shape[0], :shape[1]]\n",
    "        C = np.equal(A_, B_)\n",
    "        for i in range(shape[0]):\n",
    "            for j in range(shape[1]):\n",
    "                sum += C[i][j]\n",
    "        # Find the largest sub-matrix with all true\n",
    "        # https://www.geeksforgeeks.org/maximum-size-sub-matrix-with-all-1s-in-a-binary-matrix/\n",
    "        \n",
    "print(sum)"
   ]
  },
  {
   "cell_type": "code",
   "execution_count": null,
   "id": "a6372ddd",
   "metadata": {},
   "outputs": [],
   "source": []
  },
  {
   "cell_type": "code",
   "execution_count": null,
   "id": "77db237c",
   "metadata": {},
   "outputs": [],
   "source": []
  },
  {
   "cell_type": "code",
   "execution_count": null,
   "id": "1e6d156e",
   "metadata": {},
   "outputs": [],
   "source": []
  }
 ],
 "metadata": {
  "kernelspec": {
   "display_name": "Python 3 (ipykernel)",
   "language": "python",
   "name": "python3"
  },
  "language_info": {
   "codemirror_mode": {
    "name": "ipython",
    "version": 3
   },
   "file_extension": ".py",
   "mimetype": "text/x-python",
   "name": "python",
   "nbconvert_exporter": "python",
   "pygments_lexer": "ipython3",
   "version": "3.9.13"
  }
 },
 "nbformat": 4,
 "nbformat_minor": 5
}
